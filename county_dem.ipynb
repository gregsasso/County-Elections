{
 "cells": [
  {
   "cell_type": "code",
   "execution_count": 59,
   "metadata": {},
   "outputs": [],
   "source": [
    "#Notebook to clean demographic data\n",
    "import pandas as pd\n",
    "import numpy as np\n",
    "import warnings\n",
    "warnings.filterwarnings('ignore')\n"
   ]
  },
  {
   "cell_type": "code",
   "execution_count": null,
   "metadata": {},
   "outputs": [],
   "source": [
    "\n",
    "#import data\n",
    "df_dem2020 = pd.read_csv('CC-EST2020-ALLDATA6.csv', encoding='ISO-8859-1', low_memory=False)\n",
    "df_dem2022 = pd.read_csv('CC-EST2022-ALL.csv', encoding='ISO-8859-1')"
   ]
  },
  {
   "cell_type": "code",
   "execution_count": 61,
   "metadata": {},
   "outputs": [],
   "source": [
    "#keep only rows for total population (where AGEGRP = 0)\n",
    "df_dem2020 = df_dem2020[df_dem2020['AGEGRP'] == 0]\n",
    "df_dem2022 = df_dem2022[df_dem2022['AGEGRP'] == 0]"
   ]
  },
  {
   "cell_type": "code",
   "execution_count": 62,
   "metadata": {},
   "outputs": [],
   "source": [
    "#define columns to keep\n",
    "cols = ['STATE', 'COUNTY', 'STNAME', 'CTYNAME', 'YEAR', 'TOT_POP', 'TOT_MALE', 'TOT_FEMALE', 'WA_MALE', 'WA_FEMALE', 'BA_MALE', 'BA_FEMALE', 'IA_MALE', 'IA_FEMALE', 'AA_MALE', 'AA_FEMALE', 'NA_MALE', 'NA_FEMALE', 'TOM_MALE', 'TOM_FEMALE', 'NH_MALE', 'NH_FEMALE', 'H_MALE', 'H_FEMALE']\n",
    "\n",
    "#keep only columns in cols\n",
    "df_dem2020 = df_dem2020[cols]\n",
    "df_dem2022 = df_dem2022[cols]"
   ]
  },
  {
   "cell_type": "code",
   "execution_count": 63,
   "metadata": {},
   "outputs": [],
   "source": [
    "#Keep only relevant years. For df_dem2020, keep Year = 6, 7, 8, 9, 10, 11, 12, 14\n",
    "df_dem2020 = df_dem2020[df_dem2020['YEAR'].isin([6, 7, 8, 9, 10, 11, 12, 14])]\n",
    "\n",
    "#For df_dem2022, keep Year = 3, 4\n",
    "df_dem2022 = df_dem2022[df_dem2022['YEAR'].isin([3, 4])]"
   ]
  },
  {
   "cell_type": "code",
   "execution_count": 64,
   "metadata": {},
   "outputs": [],
   "source": [
    "#Relabel years from codes to years. For df_dem2020, 6 = 2013, 7 = 2014, 8 = 2015, 9 = 2016, 10 = 2017, 11 = 2018, 12 = 2019, 14 = 2020\n",
    "df_dem2020['YEAR'] = df_dem2020['YEAR'].replace([6, 7, 8, 9, 10, 11, 12, 14], [2013, 2014, 2015, 2016, 2017, 2018, 2019, 2020])\n",
    "\n",
    "#For df_dem2022, 3 = 2021, 4 = 2022\n",
    "df_dem2022['YEAR'] = df_dem2022['YEAR'].replace([3, 4], [2021, 2022])"
   ]
  },
  {
   "cell_type": "code",
   "execution_count": 65,
   "metadata": {},
   "outputs": [],
   "source": [
    "#For all _MALE and _FEMALE columns, create new columns for total population\n",
    "\n",
    "#First, make sure relevant columns are int\n",
    "df_dem2020[['TOT_POP', 'TOT_MALE', 'TOT_FEMALE', 'WA_MALE', 'WA_FEMALE', 'BA_MALE', 'BA_FEMALE', 'IA_MALE', 'IA_FEMALE', 'AA_MALE', 'AA_FEMALE', 'NA_MALE', 'NA_FEMALE', 'TOM_MALE', 'TOM_FEMALE', 'NH_MALE', 'NH_FEMALE', 'H_MALE', 'H_FEMALE']] = df_dem2020[['TOT_POP', 'TOT_MALE', 'TOT_FEMALE', 'WA_MALE', 'WA_FEMALE', 'BA_MALE', 'BA_FEMALE', 'IA_MALE', 'IA_FEMALE', 'AA_MALE', 'AA_FEMALE', 'NA_MALE', 'NA_FEMALE', 'TOM_MALE', 'TOM_FEMALE', 'NH_MALE', 'NH_FEMALE', 'H_MALE', 'H_FEMALE']].astype(int)\n",
    "\n",
    "df_dem2022[['TOT_POP', 'TOT_MALE', 'TOT_FEMALE', 'WA_MALE', 'WA_FEMALE', 'BA_MALE', 'BA_FEMALE', 'IA_MALE', 'IA_FEMALE', 'AA_MALE', 'AA_FEMALE', 'NA_MALE', 'NA_FEMALE', 'TOM_MALE', 'TOM_FEMALE', 'NH_MALE', 'NH_FEMALE', 'H_MALE', 'H_FEMALE']] = df_dem2022[['TOT_POP', 'TOT_MALE', 'TOT_FEMALE', 'WA_MALE', 'WA_FEMALE', 'BA_MALE', 'BA_FEMALE', 'IA_MALE', 'IA_FEMALE', 'AA_MALE', 'AA_FEMALE', 'NA_MALE', 'NA_FEMALE', 'TOM_MALE', 'TOM_FEMALE', 'NH_MALE', 'NH_FEMALE', 'H_MALE', 'H_FEMALE']].astype(int)\n",
    "\n",
    "\n",
    "prefixes = ['WA', 'BA', 'IA', 'AA', 'NA', 'TOM', 'NH', 'H']\n",
    "for prefix in prefixes:\n",
    "    male_col = f'{prefix}_MALE'\n",
    "    female_col = f'{prefix}_FEMALE'\n",
    "    total_col = f'{prefix}_TOTAL'\n",
    "    df_dem2020[total_col] = df_dem2020[male_col] + df_dem2020[female_col]\n",
    "    df_dem2022[total_col] = df_dem2022[male_col] + df_dem2022[female_col]\n",
    "\n",
    "#drop _MALE and _FEMALE columns\n",
    "df_dem2020 = df_dem2020.drop(columns=[ 'WA_MALE', 'WA_FEMALE', 'BA_MALE', 'BA_FEMALE', 'IA_MALE', 'IA_FEMALE', 'AA_MALE', 'AA_FEMALE', 'NA_MALE', 'NA_FEMALE', 'TOM_MALE', 'TOM_FEMALE', 'NH_MALE', 'NH_FEMALE', 'H_MALE', 'H_FEMALE'])\n",
    "df_dem2022 = df_dem2022.drop(columns=[ 'WA_MALE', 'WA_FEMALE', 'BA_MALE', 'BA_FEMALE', 'IA_MALE', 'IA_FEMALE', 'AA_MALE', 'AA_FEMALE', 'NA_MALE', 'NA_FEMALE', 'TOM_MALE', 'TOM_FEMALE', 'NH_MALE', 'NH_FEMALE', 'H_MALE', 'H_FEMALE'])"
   ]
  },
  {
   "cell_type": "code",
   "execution_count": 66,
   "metadata": {},
   "outputs": [],
   "source": [
    "#Create FIPS column\n",
    "df_dem2020['FIPS'] = df_dem2020['STATE'].astype(str) + df_dem2020['COUNTY'].astype(str).str.zfill(3)\n",
    "df_dem2022['FIPS'] = df_dem2022['STATE'].astype(str) + df_dem2022['COUNTY'].astype(str).str.zfill(3)\n",
    "\n",
    "#Move FIPS column to front\n",
    "cols = df_dem2020.columns.tolist()\n",
    "cols = cols[-1:] + cols[:-1]\n",
    "df_dem2020 = df_dem2020[cols]\n",
    "\n",
    "cols = df_dem2022.columns.tolist()\n",
    "cols = cols[-1:] + cols[:-1]\n",
    "df_dem2022 = df_dem2022[cols]"
   ]
  },
  {
   "cell_type": "code",
   "execution_count": 67,
   "metadata": {},
   "outputs": [],
   "source": [
    "#Pivot dataframes to have one row per county\n",
    "cols_to_pivot = ['TOT_POP', 'TOT_MALE','TOT_FEMALE', 'WA_TOTAL','BA_TOTAL', 'IA_TOTAL', 'AA_TOTAL', 'NA_TOTAL', 'TOM_TOTAL', 'NH_TOTAL','H_TOTAL']\n",
    "\n",
    "#Set index to keep in pivot\n",
    "df_dem2020 = df_dem2020.set_index(['FIPS', 'STNAME', 'CTYNAME'])\n",
    "df_dem2022 = df_dem2022.set_index(['FIPS', 'STNAME', 'CTYNAME'])\n",
    "\n",
    "# Pivot each column and collect resulting dataframes in a list\n",
    "dfs_2020 = []\n",
    "for col in cols_to_pivot:\n",
    "    pivot_df = df_dem2020.pivot_table(index=['FIPS', 'STNAME', 'CTYNAME'], columns='YEAR', values=col)\n",
    "    pivot_df.columns = [f'{col}_{year}' for year in pivot_df.columns]\n",
    "    dfs_2020.append(pivot_df)\n",
    "\n",
    "#Merge all dataframes in list into one dataframe    \n",
    "final_df_2020 = pd.concat(dfs_2020, axis=1)\n",
    "\n",
    "#Repeat for df_dem2022\n",
    "dfs_2022 = []\n",
    "for col in cols_to_pivot:\n",
    "    pivot_df = df_dem2022.pivot_table(index=['FIPS', 'STNAME', 'CTYNAME'], columns='YEAR', values=col)\n",
    "    pivot_df.columns = [f'{col}_{year}' for year in pivot_df.columns]\n",
    "    dfs_2022.append(pivot_df)\n",
    "    \n",
    "final_df_2022 = pd.concat(dfs_2022, axis=1)\n"
   ]
  },
  {
   "cell_type": "code",
   "execution_count": 68,
   "metadata": {},
   "outputs": [],
   "source": [
    "#reset index\n",
    "final_df_2020 = final_df_2020.reset_index()\n",
    "final_df_2022 = final_df_2022.reset_index()"
   ]
  },
  {
   "cell_type": "code",
   "execution_count": 70,
   "metadata": {},
   "outputs": [],
   "source": [
    "#sort by FIPS. First, convert FIPS to int, then sort, then convert back to string\n",
    "final_df_2020['FIPS'] = final_df_2020['FIPS'].astype(int)\n",
    "final_df_2020 = final_df_2020.sort_values(by=['FIPS'])\n",
    "final_df_2020['FIPS'] = final_df_2020['FIPS'].astype(str)\n",
    "\n",
    "final_df_2022['FIPS'] = final_df_2022['FIPS'].astype(int)\n",
    "final_df_2022 = final_df_2022.sort_values(by=['FIPS'])\n",
    "final_df_2022['FIPS'] = final_df_2022['FIPS'].astype(str)\n"
   ]
  },
  {
   "cell_type": "code",
   "execution_count": null,
   "metadata": {},
   "outputs": [],
   "source": [
    "#Check for differences in FIPS between 2020 and 2022\n",
    "# Convert the FIPS column to sets\n",
    "fips_2020 = set(final_df_2020['FIPS'])\n",
    "fips_2022 = set(final_df_2022['FIPS'])\n",
    "\n",
    "# Identify FIPS values that are in 2020 but not in 2022\n",
    "missing_in_2022 = fips_2020 - fips_2022\n",
    "\n",
    "# Identify FIPS values that are in 2022 but not in 2020\n",
    "missing_in_2020 = fips_2022 - fips_2020\n",
    "\n",
    "print(\"FIPS values in 2020 dataframe but not in 2022:\", missing_in_2022)\n",
    "print(\"FIPS values in 2022 dataframe but not in 2020:\", missing_in_2020)"
   ]
  },
  {
   "cell_type": "code",
   "execution_count": 72,
   "metadata": {},
   "outputs": [],
   "source": [
    "######### Ignore this section for now, but keep code in case needed later #########\n",
    "\n",
    "#Connecticut changed county census designations in 2022. Drop connecticut from both dataframes (all FIPS values start with 9)\n",
    "\n",
    "#First, export dataframes to csv in case we want to add connecticut back in later\n",
    "#final_df_2020.to_csv('county_dem_2020.csv', index=False)\n",
    "#final_df_2022.to_csv('county_dem_2022.csv', index=False)\n",
    "\n",
    "#Now, drop connecticut from both dataframes before merging\n",
    "#final_df_2020 = final_df_2020[~final_df_2020['FIPS'].str.startswith('9')]\n",
    "#final_df_2022 = final_df_2022[~final_df_2022['FIPS'].str.startswith('9')]\n",
    "\n"
   ]
  },
  {
   "cell_type": "code",
   "execution_count": 73,
   "metadata": {},
   "outputs": [],
   "source": [
    "#reset index\n",
    "final_df_2020 = final_df_2020.reset_index(drop=True)\n",
    "final_df_2022 = final_df_2022.reset_index(drop=True)\n",
    "\n",
    "#Merge dataframes on FIPS\n",
    "final_df_dem = pd.merge(final_df_2020, final_df_2022, on='FIPS', how='outer')\n",
    "\n",
    "#reset index\n",
    "final_df_dem = final_df_dem.reset_index(drop=True)"
   ]
  },
  {
   "cell_type": "code",
   "execution_count": 74,
   "metadata": {},
   "outputs": [],
   "source": [
    "#drop redundant columns\n",
    "final_df_dem = final_df_dem.drop(columns=['STNAME_y', 'CTYNAME_y'])\n",
    "\n",
    "#rename columns\n",
    "final_df_dem = final_df_dem.rename(columns={'STNAME_x': 'STNAME', 'CTYNAME_x': 'CTYNAME'})\n",
    "\n",
    "#export to csv\n",
    "final_df_dem.to_csv('county_dem.csv', index=False)"
   ]
  }
 ],
 "metadata": {
  "kernelspec": {
   "display_name": "base",
   "language": "python",
   "name": "python3"
  },
  "language_info": {
   "codemirror_mode": {
    "name": "ipython",
    "version": 3
   },
   "file_extension": ".py",
   "mimetype": "text/x-python",
   "name": "python",
   "nbconvert_exporter": "python",
   "pygments_lexer": "ipython3",
   "version": "3.9.17"
  },
  "orig_nbformat": 4
 },
 "nbformat": 4,
 "nbformat_minor": 2
}
