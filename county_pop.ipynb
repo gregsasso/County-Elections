{
 "cells": [
  {
   "cell_type": "code",
   "execution_count": 11,
   "metadata": {},
   "outputs": [],
   "source": [
    "#Notebook to clean population data\n",
    "import pandas as pd\n",
    "import numpy as np"
   ]
  },
  {
   "cell_type": "code",
   "execution_count": 12,
   "metadata": {},
   "outputs": [],
   "source": [
    "#load data\n",
    "df_2020 = pd.read_csv(\"co-est2020-alldata.csv\", encoding = \"ISO-8859-1\")\n",
    "df_2022 = pd.read_csv(\"co-est2022-alldata.csv\", encoding = \"ISO-8859-1\")"
   ]
  },
  {
   "cell_type": "code",
   "execution_count": 13,
   "metadata": {},
   "outputs": [],
   "source": [
    "#subset data by dropping most columns\n",
    "#first, define columns to drop for 2020 data. Using multiple variables to make it easier to read\n",
    "cols_2020_drop1 = ['SUMLEV','CENSUS2010POP','ESTIMATESBASE2010','POPESTIMATE2010', 'POPESTIMATE2011', 'POPESTIMATE2012', 'NPOPCHG_2010', 'NPOPCHG_2011', 'NPOPCHG_2012', 'BIRTHS2010', 'BIRTHS2011', 'BIRTHS2012', 'DEATHS2010', 'DEATHS2011', 'DEATHS2012', 'INTERNATIONALMIG2010', 'INTERNATIONALMIG2011', 'INTERNATIONALMIG2012', 'DOMESTICMIG2010', 'DOMESTICMIG2011', 'DOMESTICMIG2012', 'NATURALINC2010', 'NATURALINC2011', 'NATURALINC2012', 'NATURALINC2013', 'NATURALINC2014', 'NATURALINC2015', 'NATURALINC2016', 'NATURALINC2017', 'NATURALINC2018', 'NATURALINC2019', 'NATURALINC2020']\n",
    "\n",
    "#2nd variable for columns to drop. include all net migration columns, residual columns, gqestimates columns\n",
    "cols_2020_drop2= ['RESIDUAL2010', 'RESIDUAL2011', 'RESIDUAL2012', 'RESIDUAL2013', 'RESIDUAL2014', 'RESIDUAL2015', 'RESIDUAL2016', 'RESIDUAL2017', 'RESIDUAL2018', 'RESIDUAL2019','RESIDUAL2020','GQESTIMATESBASE2010', 'GQESTIMATES2010', 'GQESTIMATES2011', 'GQESTIMATES2012', 'GQESTIMATES2013', 'GQESTIMATES2014', 'GQESTIMATES2015', 'GQESTIMATES2016', 'GQESTIMATES2017', 'GQESTIMATES2018', 'GQESTIMATES2019', 'GQESTIMATES2020', 'NETMIG2010', 'NETMIG2011', 'NETMIG2012', 'NETMIG2013', 'NETMIG2014', 'NETMIG2015', 'NETMIG2016', 'NETMIG2017', 'NETMIG2018', 'NETMIG2019', 'NETMIG2020']\n",
    "\n",
    "#3rd variable for columns to drop. drop all rnaturalinc, rnetmig. drop rbirth, rdeath, rinternationalmig, rdomesticmig for 2011-2012\n",
    "cols_2020_drop3 = ['RNATURALINC2011', 'RNATURALINC2012', 'RNATURALINC2013', 'RNATURALINC2014', 'RNATURALINC2015', 'RNATURALINC2016', 'RNATURALINC2017','RNATURALINC2018', 'RNATURALINC2019', 'RNATURALINC2020', 'RINTERNATIONALMIG2011', 'RINTERNATIONALMIG2012',   'RDOMESTICMIG2011', 'RDOMESTICMIG2012', 'RBIRTH2011', 'RBIRTH2012',  'RDEATH2011', 'RDEATH2012', 'RNETMIG2011', 'RNETMIG2012', 'RNETMIG2014', 'RNETMIG2015', 'RNETMIG2016', 'RNETMIG2017', 'RNETMIG2018', 'RNETMIG2019', 'RNETMIG2020']"
   ]
  },
  {
   "cell_type": "code",
   "execution_count": 14,
   "metadata": {},
   "outputs": [],
   "source": [
    "#drop columns for 2020\n",
    "columns_to_drop = cols_2020_drop1 + cols_2020_drop2 + cols_2020_drop3\n",
    "df_2020 = df_2020.drop(columns=columns_to_drop)"
   ]
  },
  {
   "cell_type": "code",
   "execution_count": 15,
   "metadata": {},
   "outputs": [],
   "source": [
    "#defining columns to drop for 2022 data\n",
    "cols_2022_drop = ['SUMLEV','ESTIMATESBASE2020', 'POPESTIMATE2020', 'NPOPCHG2020', 'BIRTHS2020', 'DEATHS2020', 'NATURALCHG2020', 'NATURALCHG2021', 'NATURALCHG2022', 'INTERNATIONALMIG2020', 'DOMESTICMIG2020', 'NETMIG2020',  'NETMIG2021', 'NETMIG2022', 'RESIDUAL2020','RESIDUAL2021', 'RESIDUAL2022', 'GQESTIMATESBASE2020', 'GQESTIMATES2020','GQESTIMATES2021','GQESTIMATES2022','RNATURALCHG2021', 'RNATURALCHG2022', 'RNETMIG2021', 'RNETMIG2022']"
   ]
  },
  {
   "cell_type": "code",
   "execution_count": 16,
   "metadata": {},
   "outputs": [],
   "source": [
    "#drop columns for 2022\n",
    "df_2022 = df_2022.drop(columns=cols_2022_drop)"
   ]
  },
  {
   "cell_type": "code",
   "execution_count": 17,
   "metadata": {},
   "outputs": [],
   "source": [
    "#drop state level data (ie, rows where county = 0)\n",
    "df_2020 = df_2020[df_2020['COUNTY'] != 0]\n",
    "df_2022 = df_2022[df_2022['COUNTY'] != 0]"
   ]
  },
  {
   "cell_type": "code",
   "execution_count": 18,
   "metadata": {},
   "outputs": [],
   "source": [
    "#create FIPS column\n",
    "df_2020['FIPS'] = df_2020['STATE'].astype(str) + df_2020['COUNTY'].astype(str).str.zfill(3)\n",
    "df_2022['FIPS'] = df_2022['STATE'].astype(str) + df_2022['COUNTY'].astype(str).str.zfill(3)\n",
    "\n",
    "#move FIPS column to front\n",
    "cols = list(df_2020.columns)\n",
    "cols = [cols[-1]] + cols[:-1]\n",
    "df_2020 = df_2020[cols]\n",
    "cols_2022 = list(df_2022.columns)\n",
    "cols_2022 = [cols_2022[-1]] + cols_2022[:-1]\n",
    "df_2022 = df_2022[cols_2022]"
   ]
  },
  {
   "cell_type": "code",
   "execution_count": 19,
   "metadata": {},
   "outputs": [],
   "source": [
    "#Merge 2020 and 2022 data on FIPS\n",
    "df_pop = pd.merge(df_2020, df_2022, on='FIPS', how='left')\n",
    "#drop duplicate columns\n",
    "df_pop.drop(columns=['STATE_y', 'COUNTY_y', 'REGION_y', 'DIVISION_y', 'STNAME_y', 'CTYNAME_y'], inplace=True)\n",
    "#rename columns\n",
    "df_pop.rename(columns={'STATE_x': 'STATE', 'COUNTY_x': 'COUNTY', 'REGION_x': 'REGION', 'DIVISION_x': 'DIVISION', 'STNAME_x': 'STNAME', 'CTYNAME_x': 'CTYNAME'}, inplace=True)"
   ]
  },
  {
   "cell_type": "code",
   "execution_count": 20,
   "metadata": {},
   "outputs": [],
   "source": [
    "#export to csv\n",
    "df_pop.to_csv('county_pop.csv', index=False)"
   ]
  }
 ],
 "metadata": {
  "kernelspec": {
   "display_name": "base",
   "language": "python",
   "name": "python3"
  },
  "language_info": {
   "codemirror_mode": {
    "name": "ipython",
    "version": 3
   },
   "file_extension": ".py",
   "mimetype": "text/x-python",
   "name": "python",
   "nbconvert_exporter": "python",
   "pygments_lexer": "ipython3",
   "version": "3.9.17"
  },
  "orig_nbformat": 4
 },
 "nbformat": 4,
 "nbformat_minor": 2
}
