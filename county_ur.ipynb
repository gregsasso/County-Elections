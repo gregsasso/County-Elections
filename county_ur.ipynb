{
 "cells": [
  {
   "cell_type": "code",
   "execution_count": 35,
   "metadata": {},
   "outputs": [],
   "source": [
    "#Notebook to clean county unemployment rate data\n",
    "import pandas as pd\n",
    "import numpy as np\n",
    "import warnings\n",
    "warnings.filterwarnings('ignore')"
   ]
  },
  {
   "cell_type": "code",
   "execution_count": 36,
   "metadata": {},
   "outputs": [],
   "source": [
    "# manually cleaned column headers and removed citation footnote prior to import\n",
    "county_df = pd.read_excel('laucnty13.xlsx')\n",
    "county_df = county_df.drop(['Year', 'Unnamed: 5', 'Labor Force', 'Employed', 'Unemployed'], axis=1)"
   ]
  },
  {
   "cell_type": "code",
   "execution_count": 37,
   "metadata": {},
   "outputs": [],
   "source": [
    "# loop through the remaining files and merge with the county_df\n",
    "for year in range(14, 23):  # from 2014 to 2022\n",
    "    file_path = f'laucnty{year}.xlsx'\n",
    "    \n",
    "    # 1. Read in the spreadsheet\n",
    "    df_temp_simple = pd.read_excel(file_path)\n",
    "    \n",
    "    # 2. Drop the specified columns\n",
    "    df_temp_simple = df_temp_simple.drop(['Year', 'Unnamed: 5', 'Labor Force', 'Employed', 'Unemployed'], axis=1)\n",
    "    \n",
    "    # 3. Merge with county_df_simple on the consistent columns\n",
    "    county_df = pd.merge(county_df, df_temp_simple, on=[\"LAUS Code\", \"State Fips\", \"County Fips\", \"County Name/State Abbreviation\"], how=\"outer\")\n",
    "\n"
   ]
  },
  {
   "cell_type": "code",
   "execution_count": 38,
   "metadata": {},
   "outputs": [],
   "source": [
    "#convert state and county fip to strings, add leading zeros to county fips, and combine to create fips column\n",
    "county_df[['State Fips', 'County Fips']] = county_df[['State Fips', 'County Fips']].astype(int)\n",
    "county_df[['State Fips', 'County Fips']] = county_df[['State Fips', 'County Fips']].astype(str)\n",
    "county_df['County Fips'] = county_df['County Fips'].str.zfill(3)\n",
    "county_df['FIPS'] = county_df['State Fips'] + county_df['County Fips']\n",
    "\n",
    "#move FIPS column to 4th column\n",
    "cols = county_df.columns.tolist()\n",
    "cols = cols[:3] + cols[-1:] + cols[3:-1]\n",
    "county_df = county_df[cols]\n",
    "\n",
    "#rename year columns\n",
    "for year in range(2013, 2023):\n",
    "    county_df.rename(columns={f\"Unemployment Rate {year}\": f\"UR_{year}\"}, inplace=True)\n",
    "    \n"
   ]
  },
  {
   "cell_type": "code",
   "execution_count": 40,
   "metadata": {},
   "outputs": [],
   "source": [
    "#sort by FIPS in case new counties were added after 2014. First, convert FIPS to int, then sort, then convert back to string. Also, make sure UR columns are floats\n",
    "county_df['FIPS'] = county_df['FIPS'].astype(int)\n",
    "county_df.sort_values(by=['FIPS'], inplace=True)\n",
    "county_df['FIPS'] = county_df['FIPS'].astype(str)\n",
    "county_df.replace('N.A.', np.nan, inplace=True)\n",
    "county_df[['UR_2013', 'UR_2014', 'UR_2015', 'UR_2016', 'UR_2017', 'UR_2018', 'UR_2019', 'UR_2020', 'UR_2021', 'UR_2022']] = county_df[['UR_2013', 'UR_2014', 'UR_2015', 'UR_2016', 'UR_2017', 'UR_2018', 'UR_2019', 'UR_2020', 'UR_2021', 'UR_2022']].astype(float)"
   ]
  },
  {
   "cell_type": "code",
   "execution_count": 41,
   "metadata": {},
   "outputs": [],
   "source": [
    "# export county_df to csv\n",
    "county_df.to_csv('county_ur.csv', index=False)"
   ]
  }
 ],
 "metadata": {
  "kernelspec": {
   "display_name": "base",
   "language": "python",
   "name": "python3"
  },
  "language_info": {
   "codemirror_mode": {
    "name": "ipython",
    "version": 3
   },
   "file_extension": ".py",
   "mimetype": "text/x-python",
   "name": "python",
   "nbconvert_exporter": "python",
   "pygments_lexer": "ipython3",
   "version": "3.9.17"
  },
  "orig_nbformat": 4
 },
 "nbformat": 4,
 "nbformat_minor": 2
}
