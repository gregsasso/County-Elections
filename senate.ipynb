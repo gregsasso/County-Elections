{
 "cells": [
  {
   "cell_type": "code",
   "execution_count": 106,
   "metadata": {},
   "outputs": [],
   "source": [
    "# Notebook to subset senate_elections.csv to only include elections from 2016 onwards and relevant columns and then merge with demographic data from census and use mit data for 2022 elections\n",
    "import pandas as pd\n",
    "import numpy as np\n",
    "import warnings\n",
    "warnings.filterwarnings('ignore')"
   ]
  },
  {
   "cell_type": "code",
   "execution_count": 107,
   "metadata": {},
   "outputs": [],
   "source": [
    "senate_elections = pd.read_csv(\"Election Data\\senate_elections.csv\", low_memory=False)\n",
    "senate_elections = senate_elections[senate_elections[\"election_year\"] >= 2016]\n",
    "senate_elections = senate_elections[[\"fips\", \"democratic_raw_votes\", \"dem_nominee\", \"republican_raw_votes\", \"rep_nominee\", \"raw_county_vote_totals\", \"election_year\"]]\n",
    "\n",
    "sen_mit = pd.read_csv(\"Election Data\\senate_2022.csv\", low_memory=False)\n",
    "sen_mit = sen_mit[[\"year\", \"county_fips\", \"candidate\", \"party_simplified\", \"candidatevotes\", \"totalvotes\"]]"
   ]
  },
  {
   "cell_type": "code",
   "execution_count": 108,
   "metadata": {},
   "outputs": [],
   "source": [
    "#rename fips to FIPS and election_year to YEAR\n",
    "senate_elections = senate_elections.rename(columns={\"fips\": \"FIPS\", \"election_year\": \"YEAR\"})\n",
    "sen_mit = sen_mit.rename(columns={\"county_fips\": \"FIPS\", \"year\": \"YEAR\",  \"party_simplified\": \"party\"})"
   ]
  },
  {
   "cell_type": "code",
   "execution_count": 109,
   "metadata": {},
   "outputs": [],
   "source": [
    "#create raw_county_vote_totals column in sen_mit\n",
    "sen_mit[\"raw_county_vote_totals\"] = sen_mit.groupby([\"FIPS\", \"YEAR\"])[\"candidatevotes\"].transform(\"sum\")\n"
   ]
  },
  {
   "cell_type": "code",
   "execution_count": 110,
   "metadata": {},
   "outputs": [],
   "source": [
    "#sen_mit to have each county as a row. One column for the democratic candidate, one column for the republican candidate, one column for each candidate's votes, and one column for total votes\n",
    "sen_mit_dem = sen_mit[sen_mit[\"party\"] == \"DEMOCRAT\"]\n",
    "sen_mit_rep = sen_mit[sen_mit[\"party\"] == \"REPUBLICAN\"]\n",
    "\n",
    "sen_mit_dem = sen_mit_dem.rename(columns={\"candidate\": \"dem_nominee\", \"candidatevotes\": \"democratic_raw_votes\"})\n",
    "sen_mit_rep = sen_mit_rep.rename(columns={\"candidate\": \"rep_nominee\", \"candidatevotes\": \"republican_raw_votes\"})\n",
    "\n",
    "sen_mit_dem = sen_mit_dem[[\"FIPS\", \"dem_nominee\", \"democratic_raw_votes\", \"YEAR\"]]\n",
    "\n",
    "sen_mit_dem = sen_mit_dem.groupby([\"FIPS\", \"YEAR\", \"dem_nominee\"]).agg(democratic_raw_votes=(\"democratic_raw_votes\", \"sum\")).reset_index()\n",
    "sen_mit_rep = sen_mit_rep.groupby([\"FIPS\", \"YEAR\", \"rep_nominee\"]).agg(republican_raw_votes=(\"republican_raw_votes\", \"sum\"), raw_county_vote_totals=(\"raw_county_vote_totals\", \"max\")).reset_index()\n",
    "\n",
    "#merge back sen_mit_dem and sen_mit_rep on FIPS and YEAR\n",
    "sen_mit = pd.merge(sen_mit_dem, sen_mit_rep, on=[\"FIPS\", \"YEAR\"])\n",
    "\n",
    "#concatenate the two dataframes and drop party column\n",
    "senate_elections = pd.concat([senate_elections, sen_mit], ignore_index=True)\n",
    "\n",
    "#reset index\n",
    "senate_elections = senate_elections.reset_index(drop=True)"
   ]
  },
  {
   "cell_type": "code",
   "execution_count": 111,
   "metadata": {},
   "outputs": [],
   "source": [
    "#load and merge with county_long\n",
    "county_long = pd.read_csv(\"county_final_long.csv\", low_memory=False)\n",
    "sen_df = pd.merge(senate_elections, county_long, on=[\"FIPS\", \"YEAR\"], how=\"outer\")\n"
   ]
  },
  {
   "cell_type": "code",
   "execution_count": 112,
   "metadata": {},
   "outputs": [],
   "source": [
    "#Make STNAME, CTYNAME, FIPS, YEAR the first four columns\n",
    "cols_order = ['STNAME', 'CTYNAME', 'FIPS', 'YEAR'] + [col for col in sen_df.columns if col not in ['STNAME', 'CTYNAME', 'FIPS', 'YEAR']]\n",
    "\n",
    "# Reorder the columns\n",
    "sen_df = sen_df[cols_order]\n"
   ]
  },
  {
   "cell_type": "code",
   "execution_count": 113,
   "metadata": {},
   "outputs": [],
   "source": [
    "#Sort by year, state, county\n",
    "sen_df = sen_df.sort_values(by=[\"YEAR\", \"STNAME\", \"CTYNAME\"])"
   ]
  },
  {
   "cell_type": "code",
   "execution_count": 114,
   "metadata": {},
   "outputs": [],
   "source": [
    "#export to csv\n",
    "sen_df.to_csv(\"senate_county_long.csv\", index=False)"
   ]
  },
  {
   "cell_type": "code",
   "execution_count": null,
   "metadata": {},
   "outputs": [],
   "source": [
    "#Create wide version of senate data with extra columns for analysis\n",
    "\n",
    "#make sure YEAR is an integer\n",
    "sen_df['YEAR'] = sen_df['YEAR'].astype(int)\n",
    "\n",
    "\n",
    "#get subset for 2 years prior to 2016 election and election year\n",
    "sen_2016_x = sen_df[(sen_df['YEAR'] >= 2014) & (sen_df['YEAR'] <= 2016)]\n",
    "sen_2016_y = sen_df[sen_df['YEAR'] == 2016]\n",
    "\n",
    "#get subset for 2 years prior to 2018 election and election year\n",
    "sen_2018_x = sen_df[(sen_df['YEAR'] >= 2016) & (sen_df['YEAR'] <= 2018)]\n",
    "sen_2018_y = sen_df[sen_df['YEAR'] == 2018]\n",
    "\n",
    "#get subset for 2 years prior to 2020 election and election year\n",
    "sen_2020_x = sen_df[(sen_df['YEAR'] >= 2018) & (sen_df['YEAR'] <= 2020)]\n",
    "sen_2020_y = sen_df[sen_df['YEAR'] == 2020]\n",
    "\n",
    "#get subset for 2 years prior to 2022 election and election year\n",
    "sen_2022_x = sen_df[(sen_df['YEAR'] >= 2020) & (sen_df['YEAR'] <= 2022)]\n",
    "sen_2022_y = sen_df[sen_df['YEAR'] == 2022]\n",
    "#modify dataframes to have relevant columns depending on x or y\n",
    "cols = [ 'democratic_raw_votes',\n",
    " 'dem_nominee',\n",
    " 'republican_raw_votes',\n",
    " 'rep_nominee',\n",
    " 'raw_county_vote_totals']\n",
    "\n",
    "cols_to_keep = ['FIPS', 'YEAR', 'STNAME', 'CTYNAME'] + cols\n",
    "\n",
    "dfs_x = [sen_2016_x, sen_2018_x, sen_2020_x, sen_2022_x]\n",
    "dfs_y = [sen_2016_y, sen_2018_y, sen_2020_y, sen_2022_y]\n",
    "\n",
    "dfs_x = [df.drop(columns=cols) for df in dfs_x]\n",
    "dfs_y = [df[cols_to_keep] for df in dfs_y]\n",
    "\n",
    "for df in dfs_y:\n",
    "    dem_pct = df['democratic_raw_votes'] / df['raw_county_vote_totals']\n",
    "    rep_pct = df['republican_raw_votes'] / df['raw_county_vote_totals']\n",
    "    df['dem_pct'] = dem_pct\n",
    "    df['rep_pct'] = rep_pct\n",
    "\n",
    "sen_2016_x, sen_2018_x, sen_2020_x, sen_2022_x = dfs_x\n",
    "sen_2016_y, sen_2018_y, sen_2020_y, sen_2022_y = dfs_y\n"
   ]
  },
  {
   "cell_type": "code",
   "execution_count": 116,
   "metadata": {},
   "outputs": [],
   "source": [
    "#Create function to pivot dataframes to have one row per county\n",
    "def reshape_df(df, ref_year):\n",
    "    exclude_cols=['STNAME', 'CTYNAME', 'FIPS', 'YEAR', 'democratic_raw_votes',\n",
    "    'dem_nominee',\n",
    "    'republican_raw_votes',\n",
    "    'rep_nominee',\n",
    "    'raw_county_vote_totals']\n",
    "\n",
    "    pivot_cols = [col for col in df.columns if col not in exclude_cols]\n",
    "\n",
    "    # Get all columns from exclude_cols except 'YEAR' for the index\n",
    "    index_cols = ['STNAME', 'CTYNAME', 'FIPS']\n",
    "    \n",
    "    # Create a dynamic year mapping based on the reference year\n",
    "    unique_years = sorted(df['YEAR'].unique())\n",
    "    year_mapping = {year: f'year_{ref_year-year}' for year in unique_years}\n",
    "    df['YEAR'] = df['YEAR'].map(year_mapping)\n",
    "    \n",
    "    # Pivot the dataframe using pivot_table\n",
    "    df_pivot = df.pivot_table(index=index_cols, columns='YEAR', values=pivot_cols, aggfunc='first')\n",
    "    \n",
    "    # Flatten the MultiIndex after pivoting and reset index\n",
    "    df_pivot.columns = ['_'.join(col).strip() for col in df_pivot.columns.values]\n",
    "    df_pivot.reset_index(inplace=True)\n",
    "    \n",
    "    # Drop STNAME and CTYNAME columns\n",
    "    df_pivot = df_pivot.drop(columns=['STNAME', 'CTYNAME'])\n",
    "    df_pivot.reset_index(inplace=True)\n",
    "    \n",
    "    return df_pivot\n",
    "\n"
   ]
  },
  {
   "cell_type": "code",
   "execution_count": 117,
   "metadata": {},
   "outputs": [],
   "source": [
    "# Apply the function to the dataframes\n",
    "sen_2016_x_transformed = reshape_df(sen_2016_x, 2016)\n",
    "sen_2018_x_transformed = reshape_df(sen_2018_x, 2018)\n",
    "sen_2020_x_transformed = reshape_df(sen_2020_x, 2020)\n",
    "sen_2022_x_transformed = reshape_df(sen_2022_x, 2022)\n",
    "#Merge transformed x dataframes with y dataframes on FIPS\n",
    "sen_2016 = pd.merge(sen_2016_y, sen_2016_x_transformed,  on='FIPS')\n",
    "sen_2018 = pd.merge(sen_2018_y, sen_2018_x_transformed,  on='FIPS')\n",
    "sen_2020 = pd.merge(sen_2020_y, sen_2020_x_transformed,  on='FIPS')\n",
    "sen_2022 = pd.merge(sen_2022_y, sen_2022_x_transformed,  on='FIPS')\n",
    "\n",
    "sen_2016.drop(columns=['index'], inplace=True)\n",
    "sen_2018.drop(columns=['index'], inplace=True)\n",
    "sen_2020.drop(columns=['index'], inplace=True)\n",
    "sen_2022.drop(columns=['index'], inplace=True)\n",
    "\n",
    "#concatenate all dataframes into one, drop rows with missing values\n",
    "sen_df = pd.concat([sen_2016, sen_2018, sen_2020, sen_2022], axis=0)\n",
    "\n",
    "#write to csv\n",
    "sen_df.to_csv('senate_county_wide.csv', index=False)"
   ]
  }
 ],
 "metadata": {
  "kernelspec": {
   "display_name": "base",
   "language": "python",
   "name": "python3"
  },
  "language_info": {
   "codemirror_mode": {
    "name": "ipython",
    "version": 3
   },
   "file_extension": ".py",
   "mimetype": "text/x-python",
   "name": "python",
   "nbconvert_exporter": "python",
   "pygments_lexer": "ipython3",
   "version": "3.9.17"
  },
  "orig_nbformat": 4
 },
 "nbformat": 4,
 "nbformat_minor": 2
}
